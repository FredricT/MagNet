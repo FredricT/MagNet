{
 "cells": [
  {
   "cell_type": "markdown",
   "metadata": {},
   "source": [
    "## Setup"
   ]
  },
  {
   "cell_type": "markdown",
   "metadata": {},
   "source": [
    "Here, we simply import all libraries we will use."
   ]
  },
  {
   "cell_type": "code",
   "execution_count": 1,
   "metadata": {},
   "outputs": [],
   "source": [
    "import matplotlib.pyplot as plt\n",
    "import numpy as np\n",
    "import pandas as pd\n",
    "import pywt\n",
    "from skimage.transform import resize\n",
    "import torch\n",
    "import torch.nn as nn\n",
    "import torch.nn.functional as F\n",
    "import torch.optim as optim\n",
    "import wandb"
   ]
  },
  {
   "cell_type": "markdown",
   "metadata": {},
   "source": [
    "## Dataset"
   ]
  },
  {
   "cell_type": "code",
   "execution_count": 2,
   "metadata": {},
   "outputs": [],
   "source": [
    "data_length = 1000\n",
    "sample_rate = 2e-6\n",
    "\n",
    "# Load CSV Files\n",
    "# TODO: Use numpy instead of pandas\n",
    "I_sin_5k = pd.read_csv('data/raw/I(sin_5k_hiB).csv', header=None).iloc[:,1:data_length+1]\n",
    "V_sin_5k = pd.read_csv('data/raw/V(sin_5k_hiB).csv', header=None).iloc[:,1:data_length+1]\n",
    "\n",
    "I_tri_5k = pd.read_csv('data/raw/I(tri_5k_hiB).csv', header=None).iloc[:,1:data_length+1]\n",
    "V_tri_5k = pd.read_csv('data/raw/V(tri_5k_hiB).csv', header=None).iloc[:,1:data_length+1]\n",
    "\n",
    "I_trap_5k = pd.read_csv('data/raw/I(trap_5k_hiB).csv', header=None).iloc[:,1:data_length+1]\n",
    "V_trap_5k = pd.read_csv('data/raw/V(trap_5k_hiB).csv', header=None).iloc[:,1:data_length+1]\n",
    "\n",
    "I = pd.concat([I_sin_5k , I_tri_5k , I_trap_5k], ignore_index=True)\n",
    "V = pd.concat([V_sin_5k , V_tri_5k , V_trap_5k], ignore_index=True)"
   ]
  },
  {
   "cell_type": "code",
   "execution_count": 3,
   "metadata": {},
   "outputs": [
    {
     "name": "stdout",
     "output_type": "stream",
     "text": [
      "Index 0 finished\n",
      "Index 100 finished\n",
      "Index 200 finished\n",
      "Index 300 finished\n",
      "Index 400 finished\n",
      "Index 500 finished\n",
      "Index 600 finished\n",
      "Index 700 finished\n",
      "Index 800 finished\n",
      "Index 900 finished\n",
      "Index 1000 finished\n",
      "Index 1100 finished\n",
      "Index 1200 finished\n",
      "Index 1300 finished\n",
      "Index 1400 finished\n",
      "Index 1500 finished\n",
      "Index 1600 finished\n",
      "Index 1700 finished\n",
      "Index 1800 finished\n",
      "Index 1900 finished\n",
      "Index 2000 finished\n",
      "Index 2100 finished\n",
      "Index 2200 finished\n",
      "Index 2300 finished\n",
      "Index 2400 finished\n",
      "Index 2500 finished\n",
      "Index 2600 finished\n",
      "Index 2700 finished\n",
      "Index 2800 finished\n",
      "Index 2900 finished\n",
      "Index 3000 finished\n",
      "Index 3100 finished\n",
      "Index 3200 finished\n",
      "Index 3300 finished\n",
      "Index 3400 finished\n",
      "Index 3500 finished\n",
      "Index 3600 finished\n",
      "Index 3700 finished\n",
      "Index 3800 finished\n",
      "Index 3900 finished\n"
     ]
    }
   ],
   "source": [
    "# Compute scalograms\n",
    "wave_name = 'cgau8'\n",
    "total_scale = 30\n",
    "fc = pywt.central_frequency(wave_name)\n",
    "fmax = 10e3\n",
    "cparam = (1 / sample_rate) / fmax * fc * total_scale\n",
    "scales = cparam / np.arange(total_scale, 1, -1)\n",
    "\n",
    "data_size = I.shape[0]\n",
    "image_size = 24\n",
    "scalogram = np.zeros([data_size, image_size, image_size])\n",
    "for index, row in V.iterrows():\n",
    "    cwtmatr, _ = pywt.cwt(row, scales, wave_name, sample_rate)\n",
    "    scalogram[index] = resize(abs(cwtmatr), (image_size, image_size))\n",
    "    if index % 100 == 0:\n",
    "        print(f\"Index {index} finished\")"
   ]
  },
  {
   "cell_type": "code",
   "execution_count": 4,
   "metadata": {},
   "outputs": [],
   "source": [
    "# Compute label\n",
    "P = V * I\n",
    "t = np.arange(0, (data_length-0.5) * sample_rate, sample_rate)\n",
    "Loss_meas = np.trapz(P, t, axis=1) / (sample_rate * data_length)"
   ]
  },
  {
   "cell_type": "code",
   "execution_count": 5,
   "metadata": {},
   "outputs": [],
   "source": [
    "in_tensors = torch.from_numpy(scalogram).view(-1, 1, 24, 24)\n",
    "out_tensors = torch.from_numpy(Loss_meas).view(-1, 1)"
   ]
  },
  {
   "cell_type": "code",
   "execution_count": 6,
   "metadata": {},
   "outputs": [],
   "source": [
    "dataset = torch.utils.data.TensorDataset(in_tensors, out_tensors)\n",
    "train_size = int(0.6 * data_size)\n",
    "valid_size = int(0.2 * data_size)\n",
    "test_size = data_size - train_size - valid_size\n",
    "train_dataset, valid_dataset, test_dataset = torch.utils.data.random_split(dataset, [train_size, valid_size, test_size])\n",
    "batch_size = 64\n",
    "train_loader = torch.utils.data.DataLoader(train_dataset, batch_size=batch_size, shuffle=True)\n",
    "valid_loader = torch.utils.data.DataLoader(valid_dataset, batch_size=batch_size, shuffle=False)\n",
    "test_loader = torch.utils.data.DataLoader(test_dataset, batch_size=batch_size, shuffle=False)"
   ]
  },
  {
   "cell_type": "markdown",
   "metadata": {},
   "source": [
    "TODO: We should probably standardize dataset."
   ]
  },
  {
   "cell_type": "markdown",
   "metadata": {},
   "source": [
    "## Neural Network"
   ]
  },
  {
   "cell_type": "code",
   "execution_count": 7,
   "metadata": {},
   "outputs": [],
   "source": [
    "class Net(nn.Module):\n",
    "    def __init__(self):\n",
    "        super(Net, self).__init__()\n",
    "        self.conv_layers = nn.Sequential(\n",
    "            nn.Conv2d(1, 32, kernel_size=3, stride=1, padding=2),\n",
    "            nn.BatchNorm2d(32),\n",
    "            nn.ReLU(),\n",
    "            nn.AvgPool2d(kernel_size=2, stride=2),\n",
    "            nn.Conv2d(32, 32, kernel_size=3, stride=1, padding=2),\n",
    "            nn.BatchNorm2d(32),\n",
    "            nn.ReLU(),\n",
    "            nn.AvgPool2d(kernel_size=2, stride=2),\n",
    "            nn.Conv2d(32, 16, kernel_size=3, stride=1, padding=2),\n",
    "            nn.BatchNorm2d(16),\n",
    "            nn.ReLU(),\n",
    "            nn.AvgPool2d(kernel_size=2, stride=2),\n",
    "            # nn.Dropout(),\n",
    "        )\n",
    "        self.fc_layers = nn.Sequential(\n",
    "            nn.Linear(256, 8),\n",
    "            nn.ReLU(),\n",
    "            nn.Linear(8, 1)\n",
    "        )\n",
    "    def forward(self, x):\n",
    "        x = self.conv_layers(x)\n",
    "        x = x.view(x.size(0),-1)\n",
    "        x = self.fc_layers(x)\n",
    "        return x"
   ]
  },
  {
   "cell_type": "code",
   "execution_count": 8,
   "metadata": {},
   "outputs": [],
   "source": [
    "net = Net().double()\n",
    "criterion = nn.MSELoss()\n",
    "optimizer = optim.Adam(net.parameters(), lr=0.001)"
   ]
  },
  {
   "cell_type": "code",
   "execution_count": 9,
   "metadata": {},
   "outputs": [
    {
     "data": {
      "text/plain": [
       "16417"
      ]
     },
     "execution_count": 9,
     "metadata": {},
     "output_type": "execute_result"
    }
   ],
   "source": [
    "# From https://discuss.pytorch.org/t/4325/9\n",
    "def count_parameters(model):\n",
    "    return sum(p.numel() for p in model.parameters() if p.requires_grad)\n",
    "count_parameters(net)"
   ]
  },
  {
   "cell_type": "markdown",
   "metadata": {},
   "source": [
    "## Training"
   ]
  },
  {
   "cell_type": "code",
   "execution_count": 10,
   "metadata": {},
   "outputs": [
    {
     "data": {
      "text/html": [
       "\n",
       "                Logging results to <a href=\"https://wandb.com\" target=\"_blank\">Weights & Biases</a> <a href=\"https://docs.wandb.com/integrations/jupyter.html\" target=\"_blank\">(Documentation)</a>.<br/>\n",
       "                Project page: <a href=\"https://app.wandb.ai/seungjaeryanlee/MagNet\" target=\"_blank\">https://app.wandb.ai/seungjaeryanlee/MagNet</a><br/>\n",
       "                Run page: <a href=\"https://app.wandb.ai/seungjaeryanlee/MagNet/runs/1ipc4kai\" target=\"_blank\">https://app.wandb.ai/seungjaeryanlee/MagNet/runs/1ipc4kai</a><br/>\n",
       "            "
      ],
      "text/plain": [
       "<IPython.core.display.HTML object>"
      ]
     },
     "metadata": {},
     "output_type": "display_data"
    },
    {
     "name": "stderr",
     "output_type": "stream",
     "text": [
      "Failed to query for notebook name, you can set it manually with the WANDB_NOTEBOOK_NAME environment variable\n"
     ]
    },
    {
     "data": {
      "text/plain": [
       "[<wandb.wandb_torch.TorchGraph at 0x7f448fc08850>]"
      ]
     },
     "execution_count": 10,
     "metadata": {},
     "output_type": "execute_result"
    }
   ],
   "source": [
    "wandb.init(project=\"MagNet\")\n",
    "wandb.watch(net)"
   ]
  },
  {
   "cell_type": "code",
   "execution_count": 11,
   "metadata": {},
   "outputs": [
    {
     "name": "stderr",
     "output_type": "stream",
     "text": [
      "Failed to query for notebook name, you can set it manually with the WANDB_NOTEBOOK_NAME environment variable\n"
     ]
    },
    {
     "name": "stdout",
     "output_type": "stream",
     "text": [
      "Epoch  1 Train 0.00016 Valid 0.00006\n",
      "Epoch  2 Train 0.00006 Valid 0.00006\n",
      "Epoch  3 Train 0.00006 Valid 0.00007\n",
      "Epoch  4 Train 0.00005 Valid 0.00005\n",
      "Epoch  5 Train 0.00006 Valid 0.00005\n",
      "Epoch  6 Train 0.00005 Valid 0.00005\n",
      "Epoch  7 Train 0.00005 Valid 0.00005\n",
      "Epoch  8 Train 0.00005 Valid 0.00006\n",
      "Epoch  9 Train 0.00004 Valid 0.00006\n",
      "Epoch 10 Train 0.00004 Valid 0.00005\n",
      "Epoch 11 Train 0.00005 Valid 0.00005\n",
      "Epoch 12 Train 0.00004 Valid 0.00007\n",
      "Epoch 13 Train 0.00005 Valid 0.00005\n",
      "Epoch 14 Train 0.00004 Valid 0.00004\n",
      "Epoch 15 Train 0.00004 Valid 0.00004\n",
      "Epoch 16 Train 0.00004 Valid 0.00005\n",
      "Epoch 17 Train 0.00004 Valid 0.00004\n",
      "Epoch 18 Train 0.00004 Valid 0.00004\n",
      "Epoch 19 Train 0.00003 Valid 0.00004\n",
      "Epoch 20 Train 0.00003 Valid 0.00004\n"
     ]
    }
   ],
   "source": [
    "for epoch_i in range(1, 20+1):\n",
    "    # Train for one epoch\n",
    "    epoch_train_loss = 0\n",
    "    for inputs, labels in train_loader:\n",
    "        optimizer.zero_grad()\n",
    "        outputs = net(inputs)\n",
    "        loss = criterion(outputs, labels)\n",
    "        loss.backward()\n",
    "        optimizer.step()\n",
    "\n",
    "        epoch_train_loss += loss.item()\n",
    "\n",
    "    # Compute Validation Loss\n",
    "    with torch.no_grad():\n",
    "        epoch_valid_loss = 0\n",
    "        for inputs, labels in valid_loader:\n",
    "            outputs = net(inputs)\n",
    "            loss = criterion(outputs, labels)\n",
    "\n",
    "            epoch_valid_loss += loss.item()\n",
    "\n",
    "    print(f\"Epoch {epoch_i:2d} \"\n",
    "          f\"Train {epoch_train_loss / len(train_dataset):.5f} \"\n",
    "          f\"Valid {epoch_valid_loss / len(valid_dataset):.5f}\")\n",
    "    wandb.log({\n",
    "        \"train/loss\": epoch_train_loss / len(train_dataset),\n",
    "        \"valid/loss\": epoch_valid_loss / len(valid_dataset),\n",
    "    })"
   ]
  },
  {
   "cell_type": "markdown",
   "metadata": {},
   "source": [
    "## Evaluation"
   ]
  },
  {
   "cell_type": "code",
   "execution_count": 12,
   "metadata": {},
   "outputs": [
    {
     "name": "stdout",
     "output_type": "stream",
     "text": [
      "Test Loss: 0.00000231\n"
     ]
    }
   ],
   "source": [
    "net.eval()\n",
    "y_meas = []\n",
    "y_pred = []\n",
    "with torch.no_grad():\n",
    "    for inputs, labels in test_loader:\n",
    "        y_pred.append(net(inputs))\n",
    "        y_meas.append(labels)\n",
    "\n",
    "y_meas = torch.cat(y_meas, dim=0)\n",
    "y_pred = torch.cat(y_pred, dim=0)\n",
    "print(f\"Test Loss: {F.mse_loss(y_meas, y_pred) / len(test_dataset):.8f}\")"
   ]
  },
  {
   "cell_type": "code",
   "execution_count": 13,
   "metadata": {},
   "outputs": [
    {
     "name": "stderr",
     "output_type": "stream",
     "text": [
      "Failed to query for notebook name, you can set it manually with the WANDB_NOTEBOOK_NAME environment variable\n"
     ]
    },
    {
     "data": {
      "image/png": "[encoded data removed]",
      "text/plain": [
       "<Figure size 576x576 with 1 Axes>"
      ]
     },
     "metadata": {
      "needs_background": "light"
     },
     "output_type": "display_data"
    }
   ],
   "source": [
    "fig, ax = plt.subplots(1, 1)\n",
    "fig.set_size_inches(8, 8)\n",
    "ax.scatter(y_meas, y_pred, label=\"Prediction\")\n",
    "ax.plot(y_meas, y_meas, 'k--', label=\"Target\")\n",
    "ax.grid(True)\n",
    "ax.legend()\n",
    "wandb.log({\"prediction_vs_target\": wandb.Image(fig)})"
   ]
  }
 ],
 "metadata": {
  "kernelspec": {
   "display_name": "Python 3",
   "language": "python",
   "name": "python3"
  },
  "language_info": {
   "codemirror_mode": {
    "name": "ipython",
    "version": 3
   },
   "file_extension": ".py",
   "mimetype": "text/x-python",
   "name": "python",
   "nbconvert_exporter": "python",
   "pygments_lexer": "ipython3",
   "version": "3.7.4"
  }
 },
 "nbformat": 4,
 "nbformat_minor": 2
}
