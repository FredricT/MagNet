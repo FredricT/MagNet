{
 "cells": [
  {
   "cell_type": "markdown",
   "metadata": {},
   "source": [
    "## Setup"
   ]
  },
  {
   "cell_type": "markdown",
   "metadata": {},
   "source": [
    "Here, we simply import all libraries we will use."
   ]
  },
  {
   "cell_type": "code",
   "execution_count": 1,
   "metadata": {},
   "outputs": [],
   "source": [
    "import matplotlib.pyplot as plt\n",
    "import numpy as np\n",
    "import pandas as pd\n",
    "import pywt\n",
    "from skimage.transform import resize\n",
    "import torch\n",
    "import torch.nn as nn\n",
    "import torch.nn.functional as F\n",
    "import torch.optim as optim"
   ]
  },
  {
   "cell_type": "markdown",
   "metadata": {},
   "source": [
    "## Dataset"
   ]
  },
  {
   "cell_type": "code",
   "execution_count": 2,
   "metadata": {},
   "outputs": [],
   "source": [
    "data_length = 1000\n",
    "sample_rate = 2e-6\n",
    "\n",
    "# Load CSV Files\n",
    "# TODO: Use numpy instead of pandas\n",
    "I_sin_5k = pd.read_csv('data/raw/I(sin_5k_hiB).csv', header=None).iloc[:,1:data_length+1]\n",
    "V_sin_5k = pd.read_csv('data/raw/V(sin_5k_hiB).csv', header=None).iloc[:,1:data_length+1]\n",
    "\n",
    "I_tri_5k = pd.read_csv('data/raw/I(tri_5k_hiB).csv', header=None).iloc[:,1:data_length+1]\n",
    "V_tri_5k = pd.read_csv('data/raw/V(tri_5k_hiB).csv', header=None).iloc[:,1:data_length+1]\n",
    "\n",
    "I_trap_5k = pd.read_csv('data/raw/I(trap_5k_hiB).csv', header=None).iloc[:,1:data_length+1]\n",
    "V_trap_5k = pd.read_csv('data/raw/V(trap_5k_hiB).csv', header=None).iloc[:,1:data_length+1]\n",
    "\n",
    "I = pd.concat([I_sin_5k , I_tri_5k , I_trap_5k], ignore_index=True)\n",
    "V = pd.concat([V_sin_5k , V_tri_5k , V_trap_5k], ignore_index=True)"
   ]
  },
  {
   "cell_type": "code",
   "execution_count": 3,
   "metadata": {},
   "outputs": [
    {
     "name": "stdout",
     "output_type": "stream",
     "text": [
      "Index 0 finished\n",
      "Index 100 finished\n",
      "Index 200 finished\n",
      "Index 300 finished\n",
      "Index 400 finished\n",
      "Index 500 finished\n",
      "Index 600 finished\n",
      "Index 700 finished\n",
      "Index 800 finished\n",
      "Index 900 finished\n",
      "Index 1000 finished\n",
      "Index 1100 finished\n",
      "Index 1200 finished\n",
      "Index 1300 finished\n",
      "Index 1400 finished\n",
      "Index 1500 finished\n",
      "Index 1600 finished\n",
      "Index 1700 finished\n",
      "Index 1800 finished\n",
      "Index 1900 finished\n",
      "Index 2000 finished\n",
      "Index 2100 finished\n",
      "Index 2200 finished\n",
      "Index 2300 finished\n",
      "Index 2400 finished\n",
      "Index 2500 finished\n",
      "Index 2600 finished\n",
      "Index 2700 finished\n",
      "Index 2800 finished\n",
      "Index 2900 finished\n",
      "Index 3000 finished\n",
      "Index 3100 finished\n",
      "Index 3200 finished\n",
      "Index 3300 finished\n",
      "Index 3400 finished\n",
      "Index 3500 finished\n",
      "Index 3600 finished\n",
      "Index 3700 finished\n",
      "Index 3800 finished\n",
      "Index 3900 finished\n"
     ]
    }
   ],
   "source": [
    "# Compute scalograms\n",
    "wave_name = 'cgau8'\n",
    "total_scale = 30\n",
    "fc = pywt.central_frequency(wave_name)\n",
    "fmax = 10e3\n",
    "cparam = (1 / sample_rate) / fmax * fc * total_scale\n",
    "scales = cparam / np.arange(total_scale, 1, -1)\n",
    "\n",
    "data_size = I.shape[0]\n",
    "image_size = 24\n",
    "scalogram = np.zeros([data_size, image_size, image_size])\n",
    "for index, row in V.iterrows():\n",
    "    cwtmatr, _ = pywt.cwt(row, scales, wave_name, sample_rate)\n",
    "    scalogram[index] = resize(abs(cwtmatr), (image_size, image_size))\n",
    "    if index % 100 == 0:\n",
    "        print(f\"Index {index} finished\")"
   ]
  },
  {
   "cell_type": "code",
   "execution_count": 4,
   "metadata": {},
   "outputs": [],
   "source": [
    "# Compute label\n",
    "P = V * I\n",
    "t = np.arange(0, (data_length-0.5) * sample_rate, sample_rate)\n",
    "Loss_meas = np.trapz(P, t, axis=1) / (sample_rate * data_length)"
   ]
  },
  {
   "cell_type": "code",
   "execution_count": 5,
   "metadata": {},
   "outputs": [],
   "source": [
    "in_tensors = torch.from_numpy(scalogram).view(-1, 1, 24, 24)\n",
    "out_tensors = torch.from_numpy(Loss_meas).view(-1, 1)"
   ]
  },
  {
   "cell_type": "code",
   "execution_count": 6,
   "metadata": {},
   "outputs": [],
   "source": [
    "dataset = torch.utils.data.TensorDataset(in_tensors, out_tensors)\n",
    "train_size = int(0.6 * data_size)\n",
    "valid_size = int(0.2 * data_size)\n",
    "test_size = data_size - train_size - valid_size\n",
    "train_dataset, valid_dataset, test_dataset = torch.utils.data.random_split(dataset, [train_size, valid_size, test_size])\n",
    "batch_size = 64\n",
    "train_loader = torch.utils.data.DataLoader(train_dataset, batch_size=batch_size, shuffle=True)\n",
    "valid_loader = torch.utils.data.DataLoader(valid_dataset, batch_size=batch_size, shuffle=False)\n",
    "test_loader = torch.utils.data.DataLoader(test_dataset, batch_size=batch_size, shuffle=False)"
   ]
  },
  {
   "cell_type": "markdown",
   "metadata": {},
   "source": [
    "TODO: We should probably standardize dataset."
   ]
  },
  {
   "cell_type": "markdown",
   "metadata": {},
   "source": [
    "## Neural Network"
   ]
  },
  {
   "cell_type": "code",
   "execution_count": 7,
   "metadata": {},
   "outputs": [],
   "source": [
    "class Net(nn.Module):\n",
    "    def __init__(self):\n",
    "        super(Net, self).__init__()\n",
    "        self.conv_layers = nn.Sequential(\n",
    "            nn.Conv2d(1, 32, kernel_size=3, stride=1, padding=2),\n",
    "            nn.BatchNorm2d(32),\n",
    "            nn.ReLU(),\n",
    "            nn.AvgPool2d(kernel_size=2, stride=2),\n",
    "            nn.Conv2d(32, 32, kernel_size=3, stride=1, padding=2),\n",
    "            nn.BatchNorm2d(32),\n",
    "            nn.ReLU(),\n",
    "            nn.AvgPool2d(kernel_size=2, stride=2),\n",
    "            nn.Conv2d(32, 16, kernel_size=3, stride=1, padding=2),\n",
    "            nn.BatchNorm2d(16),\n",
    "            nn.ReLU(),\n",
    "            nn.AvgPool2d(kernel_size=2, stride=2),\n",
    "            # nn.Dropout(),\n",
    "        )\n",
    "        self.fc_layers = nn.Sequential(\n",
    "            nn.Linear(256, 8),\n",
    "            nn.ReLU(),\n",
    "            nn.Linear(8, 1)\n",
    "        )\n",
    "    def forward(self, x):\n",
    "        x = self.conv_layers(x)\n",
    "        x = x.view(x.size(0),-1)\n",
    "        x = self.fc_layers(x)\n",
    "        return x"
   ]
  },
  {
   "cell_type": "code",
   "execution_count": 8,
   "metadata": {},
   "outputs": [],
   "source": [
    "net = Net().double()\n",
    "criterion = nn.MSELoss()\n",
    "optimizer = optim.Adam(net.parameters(), lr=0.001)"
   ]
  },
  {
   "cell_type": "code",
   "execution_count": 9,
   "metadata": {},
   "outputs": [
    {
     "data": {
      "text/plain": [
       "16417"
      ]
     },
     "execution_count": 9,
     "metadata": {},
     "output_type": "execute_result"
    }
   ],
   "source": [
    "# From https://discuss.pytorch.org/t/4325/9\n",
    "def count_parameters(model):\n",
    "    return sum(p.numel() for p in model.parameters() if p.requires_grad)\n",
    "count_parameters(net)"
   ]
  },
  {
   "cell_type": "markdown",
   "metadata": {},
   "source": [
    "## Training"
   ]
  },
  {
   "cell_type": "code",
   "execution_count": 10,
   "metadata": {},
   "outputs": [],
   "source": [
    "epoch_train_losses = []\n",
    "epoch_valid_losses = []"
   ]
  },
  {
   "cell_type": "code",
   "execution_count": 11,
   "metadata": {},
   "outputs": [
    {
     "name": "stdout",
     "output_type": "stream",
     "text": [
      "Epoch  1 Train 0.00017 Valid 0.00007\n",
      "Epoch  2 Train 0.00007 Valid 0.00005\n",
      "Epoch  3 Train 0.00005 Valid 0.00005\n",
      "Epoch  4 Train 0.00005 Valid 0.00005\n",
      "Epoch  5 Train 0.00006 Valid 0.00005\n",
      "Epoch  6 Train 0.00006 Valid 0.00005\n",
      "Epoch  7 Train 0.00005 Valid 0.00010\n",
      "Epoch  8 Train 0.00005 Valid 0.00014\n",
      "Epoch  9 Train 0.00005 Valid 0.00005\n",
      "Epoch 10 Train 0.00005 Valid 0.00005\n",
      "Epoch 11 Train 0.00004 Valid 0.00006\n",
      "Epoch 12 Train 0.00004 Valid 0.00004\n",
      "Epoch 13 Train 0.00005 Valid 0.00004\n",
      "Epoch 14 Train 0.00003 Valid 0.00003\n",
      "Epoch 15 Train 0.00005 Valid 0.00009\n",
      "Epoch 16 Train 0.00005 Valid 0.00005\n",
      "Epoch 17 Train 0.00003 Valid 0.00004\n",
      "Epoch 18 Train 0.00004 Valid 0.00003\n",
      "Epoch 19 Train 0.00003 Valid 0.00003\n",
      "Epoch 20 Train 0.00004 Valid 0.00006\n",
      "Epoch 21 Train 0.00004 Valid 0.00003\n",
      "Epoch 22 Train 0.00003 Valid 0.00005\n",
      "Epoch 23 Train 0.00003 Valid 0.00003\n",
      "Epoch 24 Train 0.00003 Valid 0.00003\n",
      "Epoch 25 Train 0.00003 Valid 0.00003\n",
      "Epoch 26 Train 0.00004 Valid 0.00013\n",
      "Epoch 27 Train 0.00004 Valid 0.00005\n",
      "Epoch 28 Train 0.00003 Valid 0.00003\n",
      "Epoch 29 Train 0.00003 Valid 0.00003\n",
      "Epoch 30 Train 0.00003 Valid 0.00003\n",
      "Epoch 31 Train 0.00004 Valid 0.00003\n",
      "Epoch 32 Train 0.00003 Valid 0.00003\n",
      "Epoch 33 Train 0.00003 Valid 0.00003\n",
      "Epoch 34 Train 0.00002 Valid 0.00003\n",
      "Epoch 35 Train 0.00002 Valid 0.00003\n",
      "Epoch 36 Train 0.00002 Valid 0.00003\n",
      "Epoch 37 Train 0.00003 Valid 0.00002\n",
      "Epoch 38 Train 0.00003 Valid 0.00004\n",
      "Epoch 39 Train 0.00003 Valid 0.00002\n",
      "Epoch 40 Train 0.00003 Valid 0.00007\n",
      "Epoch 41 Train 0.00003 Valid 0.00003\n",
      "Epoch 42 Train 0.00003 Valid 0.00002\n",
      "Epoch 43 Train 0.00002 Valid 0.00003\n",
      "Epoch 44 Train 0.00002 Valid 0.00003\n",
      "Epoch 45 Train 0.00002 Valid 0.00003\n",
      "Epoch 46 Train 0.00003 Valid 0.00003\n",
      "Epoch 47 Train 0.00002 Valid 0.00002\n",
      "Epoch 48 Train 0.00003 Valid 0.00003\n",
      "Epoch 49 Train 0.00002 Valid 0.00002\n",
      "Epoch 50 Train 0.00002 Valid 0.00004\n",
      "Epoch 51 Train 0.00002 Valid 0.00006\n",
      "Epoch 52 Train 0.00003 Valid 0.00002\n",
      "Epoch 53 Train 0.00002 Valid 0.00002\n",
      "Epoch 54 Train 0.00002 Valid 0.00003\n",
      "Epoch 55 Train 0.00002 Valid 0.00002\n",
      "Epoch 56 Train 0.00002 Valid 0.00002\n",
      "Epoch 57 Train 0.00002 Valid 0.00002\n",
      "Epoch 58 Train 0.00003 Valid 0.00005\n",
      "Epoch 59 Train 0.00002 Valid 0.00003\n",
      "Epoch 60 Train 0.00002 Valid 0.00003\n",
      "Epoch 61 Train 0.00002 Valid 0.00002\n",
      "Epoch 62 Train 0.00001 Valid 0.00002\n",
      "Epoch 63 Train 0.00002 Valid 0.00003\n",
      "Epoch 64 Train 0.00002 Valid 0.00002\n",
      "Epoch 65 Train 0.00002 Valid 0.00002\n",
      "Epoch 66 Train 0.00002 Valid 0.00003\n",
      "Epoch 67 Train 0.00002 Valid 0.00002\n",
      "Epoch 68 Train 0.00002 Valid 0.00004\n",
      "Epoch 69 Train 0.00003 Valid 0.00007\n",
      "Epoch 70 Train 0.00002 Valid 0.00002\n",
      "Epoch 71 Train 0.00002 Valid 0.00004\n",
      "Epoch 72 Train 0.00003 Valid 0.00003\n",
      "Epoch 73 Train 0.00002 Valid 0.00003\n",
      "Epoch 74 Train 0.00001 Valid 0.00002\n",
      "Epoch 75 Train 0.00001 Valid 0.00002\n",
      "Epoch 76 Train 0.00002 Valid 0.00002\n",
      "Epoch 77 Train 0.00002 Valid 0.00002\n",
      "Epoch 78 Train 0.00002 Valid 0.00002\n",
      "Epoch 79 Train 0.00002 Valid 0.00002\n",
      "Epoch 80 Train 0.00002 Valid 0.00003\n",
      "Epoch 81 Train 0.00002 Valid 0.00002\n",
      "Epoch 82 Train 0.00002 Valid 0.00005\n",
      "Epoch 83 Train 0.00002 Valid 0.00002\n",
      "Epoch 84 Train 0.00002 Valid 0.00002\n",
      "Epoch 85 Train 0.00002 Valid 0.00002\n",
      "Epoch 86 Train 0.00002 Valid 0.00002\n",
      "Epoch 87 Train 0.00002 Valid 0.00002\n",
      "Epoch 88 Train 0.00002 Valid 0.00002\n",
      "Epoch 89 Train 0.00002 Valid 0.00004\n",
      "Epoch 90 Train 0.00002 Valid 0.00002\n",
      "Epoch 91 Train 0.00002 Valid 0.00002\n",
      "Epoch 92 Train 0.00002 Valid 0.00002\n",
      "Epoch 93 Train 0.00002 Valid 0.00002\n",
      "Epoch 94 Train 0.00002 Valid 0.00002\n",
      "Epoch 95 Train 0.00002 Valid 0.00002\n",
      "Epoch 96 Train 0.00001 Valid 0.00002\n",
      "Epoch 97 Train 0.00002 Valid 0.00002\n",
      "Epoch 98 Train 0.00001 Valid 0.00003\n",
      "Epoch 99 Train 0.00002 Valid 0.00002\n",
      "Epoch 100 Train 0.00001 Valid 0.00003\n"
     ]
    }
   ],
   "source": [
    "for epoch_i in range(1, 100+1):\n",
    "    # Train for one epoch\n",
    "    epoch_train_loss = 0\n",
    "    for inputs, labels in train_loader:\n",
    "        optimizer.zero_grad()\n",
    "        outputs = net(inputs)\n",
    "        loss = criterion(outputs, labels)\n",
    "        loss.backward()\n",
    "        optimizer.step()\n",
    "\n",
    "        epoch_train_loss += loss.item()\n",
    "    epoch_train_losses.append(epoch_train_loss)\n",
    "\n",
    "    # Compute Validation Loss\n",
    "    with torch.no_grad():\n",
    "        epoch_valid_loss = 0\n",
    "        for inputs, labels in valid_loader:\n",
    "            outputs = net(inputs)\n",
    "            loss = criterion(outputs, labels)\n",
    "\n",
    "            epoch_valid_loss += loss.item()\n",
    "        epoch_valid_losses.append(epoch_valid_loss)\n",
    "\n",
    "    print(f\"Epoch {epoch_i:2d} \"\n",
    "          f\"Train {epoch_train_loss / len(train_dataset):.5f} \"\n",
    "          f\"Valid {epoch_valid_loss / len(valid_dataset):.5f}\")"
   ]
  },
  {
   "cell_type": "code",
   "execution_count": 12,
   "metadata": {},
   "outputs": [
    {
     "data": {
      "image/png": "[encoded data removed]",
      "text/plain": [
       "<Figure size 432x288 with 1 Axes>"
      ]
     },
     "metadata": {
      "needs_background": "light"
     },
     "output_type": "display_data"
    }
   ],
   "source": [
    "plt.plot(epoch_train_losses, label=\"train loss\")\n",
    "plt.plot(epoch_valid_losses, label=\"valid loss\")\n",
    "plt.legend()\n",
    "plt.show()"
   ]
  },
  {
   "cell_type": "markdown",
   "metadata": {},
   "source": [
    "## Evaluation"
   ]
  },
  {
   "cell_type": "code",
   "execution_count": 13,
   "metadata": {},
   "outputs": [
    {
     "name": "stdout",
     "output_type": "stream",
     "text": [
      "Test Loss: 0.00000185\n"
     ]
    }
   ],
   "source": [
    "net.eval()\n",
    "y_meas = []\n",
    "y_pred = []\n",
    "with torch.no_grad():\n",
    "    for inputs, labels in test_loader:\n",
    "        y_pred.append(net(inputs))\n",
    "        y_meas.append(labels)\n",
    "\n",
    "y_meas = torch.cat(y_meas, dim=0)\n",
    "y_pred = torch.cat(y_pred, dim=0)\n",
    "print(f\"Test Loss: {F.mse_loss(y_meas, y_pred) / len(test_dataset):.8f}\")"
   ]
  },
  {
   "cell_type": "code",
   "execution_count": 14,
   "metadata": {},
   "outputs": [
    {
     "data": {
      "image/png": "[encoded data removed]",
      "text/plain": [
       "<Figure size 576x576 with 1 Axes>"
      ]
     },
     "metadata": {
      "needs_background": "light"
     },
     "output_type": "display_data"
    }
   ],
   "source": [
    "plt.figure(figsize = (8,8))\n",
    "plt.subplot()\n",
    "plt.scatter(y_meas, y_pred)\n",
    "plt.plot(y_meas, y_meas, 'k--')\n",
    "plt.grid(True)\n",
    "plt.xlabel(\"y_meas\")\n",
    "plt.ylabel(\"y_pred\")\n",
    "plt.show()"
   ]
  }
 ],
 "metadata": {
  "kernelspec": {
   "display_name": "Python 3",
   "language": "python",
   "name": "python3"
  },
  "language_info": {
   "codemirror_mode": {
    "name": "ipython",
    "version": 3
   },
   "file_extension": ".py",
   "mimetype": "text/x-python",
   "name": "python",
   "nbconvert_exporter": "python",
   "pygments_lexer": "ipython3",
   "version": "3.7.4"
  }
 },
 "nbformat": 4,
 "nbformat_minor": 2
}
